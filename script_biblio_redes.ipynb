{
  "nbformat": 4,
  "nbformat_minor": 0,
  "metadata": {
    "colab": {
      "name": "treino_biblio.py",
      "provenance": [],
      "collapsed_sections": [],
      "include_colab_link": true
    },
    "kernelspec": {
      "display_name": "Python 3",
      "name": "python3"
    }
  },
  "cells": [
    {
      "cell_type": "markdown",
      "metadata": {
        "id": "view-in-github",
        "colab_type": "text"
      },
      "source": [
        "<a href=\"https://colab.research.google.com/github/Leonnmarshall/Redes-de-Informa-o/blob/main/script_biblio_redes.ipynb\" target=\"_parent\"><img src=\"https://colab.research.google.com/assets/colab-badge.svg\" alt=\"Open In Colab\"/></a>"
      ]
    },
    {
      "cell_type": "code",
      "metadata": {
        "id": "uGUl2FqNIBSh"
      },
      "source": [
        "#coleta e tratamento de dados da pesquisa"
      ],
      "execution_count": 161,
      "outputs": []
    },
    {
      "cell_type": "code",
      "metadata": {
        "id": "nXRnXRRBIQz8"
      },
      "source": [
        "#importando as bibliotecas\n",
        "import pandas as pd  #biblioteca utilizada para criar os dataframes\n",
        "import numpy as np  #biblioteca utilizada para trabalhar com vetores ou matrizes\n",
        "import matplotlib.pyplot as plt #biblioteca utilizada para construção de gráficos\n",
        "from sklearn.cluster import KMeans #biblioteca utilizada para a construção K-means\n",
        "from sklearn.decomposition import PCA #biblioteca utilizada para a construção do PCA\n",
        "from sklearn.preprocessing import StandardScaler #biblioteca utilizada para a normalização dos dados\n",
        "import seaborn as sns #biblioteca utilizada para o plot dos gráficos de forma mais \"bonita\"\n",
        "import matplotlib.colors as mcolors"
      ],
      "execution_count": 162,
      "outputs": []
    },
    {
      "cell_type": "code",
      "metadata": {
        "id": "zHjGfvVMJKQ8"
      },
      "source": [
        "#upload do dataset\n",
        "df_ciencia = pd.read_csv('coleta.csv')"
      ],
      "execution_count": 163,
      "outputs": []
    },
    {
      "cell_type": "code",
      "metadata": {
        "colab": {
          "base_uri": "https://localhost:8080/",
          "height": 197
        },
        "id": "orhprdt1KkOB",
        "outputId": "b71344e2-af4c-44dc-e1da-5c56fe57118a"
      },
      "source": [
        "#mostrando as 5 primeiras linhas do dataset\n",
        "df_ciencia.head(5)"
      ],
      "execution_count": 164,
      "outputs": [
        {
          "output_type": "execute_result",
          "data": {
            "text/html": [
              "<div>\n",
              "<style scoped>\n",
              "    .dataframe tbody tr th:only-of-type {\n",
              "        vertical-align: middle;\n",
              "    }\n",
              "\n",
              "    .dataframe tbody tr th {\n",
              "        vertical-align: top;\n",
              "    }\n",
              "\n",
              "    .dataframe thead th {\n",
              "        text-align: right;\n",
              "    }\n",
              "</style>\n",
              "<table border=\"1\" class=\"dataframe\">\n",
              "  <thead>\n",
              "    <tr style=\"text-align: right;\">\n",
              "      <th></th>\n",
              "      <th>Carimbo de data/hora</th>\n",
              "      <th>idade</th>\n",
              "      <th>areaInteresse</th>\n",
              "      <th>busca</th>\n",
              "      <th>compartilha</th>\n",
              "      <th>frequencia</th>\n",
              "      <th>recebenot</th>\n",
              "      <th>topaCanal</th>\n",
              "      <th>estudo</th>\n",
              "      <th>frequenciaAnun</th>\n",
              "    </tr>\n",
              "  </thead>\n",
              "  <tbody>\n",
              "    <tr>\n",
              "      <th>0</th>\n",
              "      <td>19/03/2021 13:47:57</td>\n",
              "      <td>35,45</td>\n",
              "      <td>7</td>\n",
              "      <td>2</td>\n",
              "      <td>2</td>\n",
              "      <td>2</td>\n",
              "      <td>1</td>\n",
              "      <td>1</td>\n",
              "      <td>3</td>\n",
              "      <td>1</td>\n",
              "    </tr>\n",
              "    <tr>\n",
              "      <th>1</th>\n",
              "      <td>19/03/2021 13:48:23</td>\n",
              "      <td>25,35</td>\n",
              "      <td>7</td>\n",
              "      <td>1</td>\n",
              "      <td>2</td>\n",
              "      <td>3</td>\n",
              "      <td>1</td>\n",
              "      <td>1</td>\n",
              "      <td>3</td>\n",
              "      <td>1</td>\n",
              "    </tr>\n",
              "    <tr>\n",
              "      <th>2</th>\n",
              "      <td>19/03/2021 13:48:25</td>\n",
              "      <td>25,35</td>\n",
              "      <td>7</td>\n",
              "      <td>1</td>\n",
              "      <td>4</td>\n",
              "      <td>1</td>\n",
              "      <td>3</td>\n",
              "      <td>1</td>\n",
              "      <td>3</td>\n",
              "      <td>2</td>\n",
              "    </tr>\n",
              "    <tr>\n",
              "      <th>3</th>\n",
              "      <td>19/03/2021 13:49:19</td>\n",
              "      <td>25,35</td>\n",
              "      <td>6</td>\n",
              "      <td>5</td>\n",
              "      <td>4</td>\n",
              "      <td>2</td>\n",
              "      <td>1</td>\n",
              "      <td>1</td>\n",
              "      <td>3</td>\n",
              "      <td>2</td>\n",
              "    </tr>\n",
              "    <tr>\n",
              "      <th>4</th>\n",
              "      <td>19/03/2021 14:16:29</td>\n",
              "      <td>35,45</td>\n",
              "      <td>6</td>\n",
              "      <td>1</td>\n",
              "      <td>5</td>\n",
              "      <td>1</td>\n",
              "      <td>1</td>\n",
              "      <td>3</td>\n",
              "      <td>3</td>\n",
              "      <td>2</td>\n",
              "    </tr>\n",
              "  </tbody>\n",
              "</table>\n",
              "</div>"
            ],
            "text/plain": [
              "  Carimbo de data/hora  idade  areaInteresse  ...  topaCanal  estudo  frequenciaAnun\n",
              "0  19/03/2021 13:47:57  35,45              7  ...          1       3               1\n",
              "1  19/03/2021 13:48:23  25,35              7  ...          1       3               1\n",
              "2  19/03/2021 13:48:25  25,35              7  ...          1       3               2\n",
              "3  19/03/2021 13:49:19  25,35              6  ...          1       3               2\n",
              "4  19/03/2021 14:16:29  35,45              6  ...          3       3               2\n",
              "\n",
              "[5 rows x 10 columns]"
            ]
          },
          "metadata": {
            "tags": []
          },
          "execution_count": 164
        }
      ]
    },
    {
      "cell_type": "code",
      "metadata": {
        "colab": {
          "base_uri": "https://localhost:8080/"
        },
        "id": "YKHQGdNHoXvK",
        "outputId": "9d1133cd-b54c-400e-bd7c-ec1b92a67fa1"
      },
      "source": [
        "df_ciencia.dtypes\n"
      ],
      "execution_count": 165,
      "outputs": [
        {
          "output_type": "execute_result",
          "data": {
            "text/plain": [
              "Carimbo de data/hora    object\n",
              "idade                   object\n",
              "areaInteresse            int64\n",
              "busca                    int64\n",
              "compartilha              int64\n",
              "frequencia               int64\n",
              "recebenot                int64\n",
              "topaCanal                int64\n",
              "estudo                   int64\n",
              "frequenciaAnun           int64\n",
              "dtype: object"
            ]
          },
          "metadata": {
            "tags": []
          },
          "execution_count": 165
        }
      ]
    },
    {
      "cell_type": "code",
      "metadata": {
        "colab": {
          "base_uri": "https://localhost:8080/"
        },
        "id": "pCf6cFHqJQxV",
        "outputId": "b61a69e4-b580-4974-940d-1b55a4c5fc21"
      },
      "source": [
        "#encontrando as características do dataset\n",
        "df_ciencia.info()"
      ],
      "execution_count": 166,
      "outputs": [
        {
          "output_type": "stream",
          "text": [
            "<class 'pandas.core.frame.DataFrame'>\n",
            "RangeIndex: 42 entries, 0 to 41\n",
            "Data columns (total 10 columns):\n",
            " #   Column                Non-Null Count  Dtype \n",
            "---  ------                --------------  ----- \n",
            " 0   Carimbo de data/hora  42 non-null     object\n",
            " 1   idade                 42 non-null     object\n",
            " 2   areaInteresse         42 non-null     int64 \n",
            " 3   busca                 42 non-null     int64 \n",
            " 4   compartilha           42 non-null     int64 \n",
            " 5   frequencia            42 non-null     int64 \n",
            " 6   recebenot             42 non-null     int64 \n",
            " 7   topaCanal             42 non-null     int64 \n",
            " 8   estudo                42 non-null     int64 \n",
            " 9   frequenciaAnun        42 non-null     int64 \n",
            "dtypes: int64(8), object(2)\n",
            "memory usage: 3.4+ KB\n"
          ],
          "name": "stdout"
        }
      ]
    },
    {
      "cell_type": "code",
      "metadata": {
        "colab": {
          "base_uri": "https://localhost:8080/"
        },
        "id": "tvM3kdYiKey6",
        "outputId": "31c66817-75c0-423e-8f81-f37b35ea3291"
      },
      "source": [
        "#encontrando as colunas\n",
        "df_ciencia.columns"
      ],
      "execution_count": 167,
      "outputs": [
        {
          "output_type": "execute_result",
          "data": {
            "text/plain": [
              "Index(['Carimbo de data/hora', 'idade', 'areaInteresse', 'busca',\n",
              "       'compartilha', 'frequencia', 'recebenot', 'topaCanal', 'estudo',\n",
              "       'frequenciaAnun'],\n",
              "      dtype='object')"
            ]
          },
          "metadata": {
            "tags": []
          },
          "execution_count": 167
        }
      ]
    },
    {
      "cell_type": "code",
      "metadata": {
        "id": "DgzCmVPnKvUa"
      },
      "source": [
        "#pegando apenas os dados numéricos\n",
        "df_ciencia=df_ciencia[['areaInteresse', 'busca',\n",
        "       'compartilha', 'frequencia', 'recebenot', 'topaCanal', 'estudo',\n",
        "       'frequenciaAnun']]"
      ],
      "execution_count": 168,
      "outputs": []
    },
    {
      "cell_type": "code",
      "metadata": {
        "colab": {
          "base_uri": "https://localhost:8080/"
        },
        "id": "ZwyHUIK5KvaD",
        "outputId": "3f1d76f7-b5d0-4275-a65a-5a580d268f3d"
      },
      "source": [
        "#verificando as mudanças\n",
        "df_ciencia.info()"
      ],
      "execution_count": 169,
      "outputs": [
        {
          "output_type": "stream",
          "text": [
            "<class 'pandas.core.frame.DataFrame'>\n",
            "RangeIndex: 42 entries, 0 to 41\n",
            "Data columns (total 8 columns):\n",
            " #   Column          Non-Null Count  Dtype\n",
            "---  ------          --------------  -----\n",
            " 0   areaInteresse   42 non-null     int64\n",
            " 1   busca           42 non-null     int64\n",
            " 2   compartilha     42 non-null     int64\n",
            " 3   frequencia      42 non-null     int64\n",
            " 4   recebenot       42 non-null     int64\n",
            " 5   topaCanal       42 non-null     int64\n",
            " 6   estudo          42 non-null     int64\n",
            " 7   frequenciaAnun  42 non-null     int64\n",
            "dtypes: int64(8)\n",
            "memory usage: 2.8 KB\n"
          ],
          "name": "stdout"
        }
      ]
    },
    {
      "cell_type": "code",
      "metadata": {
        "colab": {
          "base_uri": "https://localhost:8080/"
        },
        "id": "q5QGlkXYLnq5",
        "outputId": "4ff421c3-0c5f-442d-d88b-ab7042923e49"
      },
      "source": [
        "#verificando a existencia de valores nulos\n",
        "df_ciencia.isnull().sum()"
      ],
      "execution_count": 170,
      "outputs": [
        {
          "output_type": "execute_result",
          "data": {
            "text/plain": [
              "areaInteresse     0\n",
              "busca             0\n",
              "compartilha       0\n",
              "frequencia        0\n",
              "recebenot         0\n",
              "topaCanal         0\n",
              "estudo            0\n",
              "frequenciaAnun    0\n",
              "dtype: int64"
            ]
          },
          "metadata": {
            "tags": []
          },
          "execution_count": 170
        }
      ]
    },
    {
      "cell_type": "code",
      "metadata": {
        "colab": {
          "base_uri": "https://localhost:8080/"
        },
        "id": "jhsELjTxMTKW",
        "outputId": "d06b9241-50fc-421c-9b85-bdb2c2a3acb9"
      },
      "source": [
        "#encontra o número de linhas e colunas dos dados\n",
        "df_ciencia.shape"
      ],
      "execution_count": 171,
      "outputs": [
        {
          "output_type": "execute_result",
          "data": {
            "text/plain": [
              "(42, 8)"
            ]
          },
          "metadata": {
            "tags": []
          },
          "execution_count": 171
        }
      ]
    },
    {
      "cell_type": "markdown",
      "metadata": {
        "id": "RotjwSa5MlYm"
      },
      "source": [
        "** **negrito**Conhecendo o dataset**"
      ]
    },
    {
      "cell_type": "markdown",
      "metadata": {
        "id": "ZDo1TTvmE4DJ"
      },
      "source": [
        "**Criando o dataset e aferindo as estastiticas de contagem, média, max, percentil**"
      ]
    },
    {
      "cell_type": "code",
      "metadata": {
        "colab": {
          "base_uri": "https://localhost:8080/",
          "height": 287
        },
        "id": "e9L4QDflyFwP",
        "outputId": "d47f2ae7-32b6-42e9-8a6b-ff7fcee93069"
      },
      "source": [
        "#@title Texto de título padrão\n",
        "#encontrando as \"estatísticas\" da coleta\n",
        "df_ciencia.describe()"
      ],
      "execution_count": 172,
      "outputs": [
        {
          "output_type": "execute_result",
          "data": {
            "text/html": [
              "<div>\n",
              "<style scoped>\n",
              "    .dataframe tbody tr th:only-of-type {\n",
              "        vertical-align: middle;\n",
              "    }\n",
              "\n",
              "    .dataframe tbody tr th {\n",
              "        vertical-align: top;\n",
              "    }\n",
              "\n",
              "    .dataframe thead th {\n",
              "        text-align: right;\n",
              "    }\n",
              "</style>\n",
              "<table border=\"1\" class=\"dataframe\">\n",
              "  <thead>\n",
              "    <tr style=\"text-align: right;\">\n",
              "      <th></th>\n",
              "      <th>areaInteresse</th>\n",
              "      <th>busca</th>\n",
              "      <th>compartilha</th>\n",
              "      <th>frequencia</th>\n",
              "      <th>recebenot</th>\n",
              "      <th>topaCanal</th>\n",
              "      <th>estudo</th>\n",
              "      <th>frequenciaAnun</th>\n",
              "    </tr>\n",
              "  </thead>\n",
              "  <tbody>\n",
              "    <tr>\n",
              "      <th>count</th>\n",
              "      <td>42.000000</td>\n",
              "      <td>42.000000</td>\n",
              "      <td>42.000000</td>\n",
              "      <td>42.000000</td>\n",
              "      <td>42.000000</td>\n",
              "      <td>42.000000</td>\n",
              "      <td>42.000000</td>\n",
              "      <td>42.000000</td>\n",
              "    </tr>\n",
              "    <tr>\n",
              "      <th>mean</th>\n",
              "      <td>5.452381</td>\n",
              "      <td>2.880952</td>\n",
              "      <td>2.547619</td>\n",
              "      <td>1.500000</td>\n",
              "      <td>1.452381</td>\n",
              "      <td>1.595238</td>\n",
              "      <td>2.714286</td>\n",
              "      <td>1.928571</td>\n",
              "    </tr>\n",
              "    <tr>\n",
              "      <th>std</th>\n",
              "      <td>2.210864</td>\n",
              "      <td>2.297426</td>\n",
              "      <td>1.151931</td>\n",
              "      <td>0.552158</td>\n",
              "      <td>0.739228</td>\n",
              "      <td>0.766987</td>\n",
              "      <td>0.553733</td>\n",
              "      <td>1.021545</td>\n",
              "    </tr>\n",
              "    <tr>\n",
              "      <th>min</th>\n",
              "      <td>1.000000</td>\n",
              "      <td>1.000000</td>\n",
              "      <td>1.000000</td>\n",
              "      <td>1.000000</td>\n",
              "      <td>1.000000</td>\n",
              "      <td>1.000000</td>\n",
              "      <td>1.000000</td>\n",
              "      <td>1.000000</td>\n",
              "    </tr>\n",
              "    <tr>\n",
              "      <th>25%</th>\n",
              "      <td>3.250000</td>\n",
              "      <td>1.000000</td>\n",
              "      <td>2.000000</td>\n",
              "      <td>1.000000</td>\n",
              "      <td>1.000000</td>\n",
              "      <td>1.000000</td>\n",
              "      <td>3.000000</td>\n",
              "      <td>1.000000</td>\n",
              "    </tr>\n",
              "    <tr>\n",
              "      <th>50%</th>\n",
              "      <td>6.000000</td>\n",
              "      <td>2.000000</td>\n",
              "      <td>2.000000</td>\n",
              "      <td>1.000000</td>\n",
              "      <td>1.000000</td>\n",
              "      <td>1.000000</td>\n",
              "      <td>3.000000</td>\n",
              "      <td>2.000000</td>\n",
              "    </tr>\n",
              "    <tr>\n",
              "      <th>75%</th>\n",
              "      <td>7.000000</td>\n",
              "      <td>5.000000</td>\n",
              "      <td>4.000000</td>\n",
              "      <td>2.000000</td>\n",
              "      <td>2.000000</td>\n",
              "      <td>2.000000</td>\n",
              "      <td>3.000000</td>\n",
              "      <td>2.000000</td>\n",
              "    </tr>\n",
              "    <tr>\n",
              "      <th>max</th>\n",
              "      <td>8.000000</td>\n",
              "      <td>7.000000</td>\n",
              "      <td>5.000000</td>\n",
              "      <td>3.000000</td>\n",
              "      <td>3.000000</td>\n",
              "      <td>3.000000</td>\n",
              "      <td>3.000000</td>\n",
              "      <td>4.000000</td>\n",
              "    </tr>\n",
              "  </tbody>\n",
              "</table>\n",
              "</div>"
            ],
            "text/plain": [
              "       areaInteresse      busca  ...     estudo  frequenciaAnun\n",
              "count      42.000000  42.000000  ...  42.000000       42.000000\n",
              "mean        5.452381   2.880952  ...   2.714286        1.928571\n",
              "std         2.210864   2.297426  ...   0.553733        1.021545\n",
              "min         1.000000   1.000000  ...   1.000000        1.000000\n",
              "25%         3.250000   1.000000  ...   3.000000        1.000000\n",
              "50%         6.000000   2.000000  ...   3.000000        2.000000\n",
              "75%         7.000000   5.000000  ...   3.000000        2.000000\n",
              "max         8.000000   7.000000  ...   3.000000        4.000000\n",
              "\n",
              "[8 rows x 8 columns]"
            ]
          },
          "metadata": {
            "tags": []
          },
          "execution_count": 172
        }
      ]
    },
    {
      "cell_type": "code",
      "metadata": {
        "id": "cLtEAZUhPP0D"
      },
      "source": [
        "import pandas as pd\n",
        "import seaborn as sn"
      ],
      "execution_count": 173,
      "outputs": []
    },
    {
      "cell_type": "code",
      "metadata": {
        "id": "puKRD2eyPepe"
      },
      "source": [
        "# análise de correlação\n"
      ],
      "execution_count": 174,
      "outputs": []
    },
    {
      "cell_type": "code",
      "metadata": {
        "id": "L6wsHLi2NpBT"
      },
      "source": [
        "correlation = df_ciencia.corr()\n"
      ],
      "execution_count": 175,
      "outputs": []
    },
    {
      "cell_type": "code",
      "metadata": {
        "colab": {
          "base_uri": "https://localhost:8080/",
          "height": 356
        },
        "id": "I8KAf0lsPCld",
        "outputId": "d6be7c3e-c6af-4566-e8bf-3d15d46c2696"
      },
      "source": [
        "plot = sn.heatmap(correlation, annot = True, fmt=\".1f\", linewidths=.8)\n",
        "plot"
      ],
      "execution_count": 176,
      "outputs": [
        {
          "output_type": "execute_result",
          "data": {
            "text/plain": [
              "<matplotlib.axes._subplots.AxesSubplot at 0x7fa4d0f6bd50>"
            ]
          },
          "metadata": {
            "tags": []
          },
          "execution_count": 176
        },
        {
          "output_type": "display_data",
          "data": {
            "image/png": "[encoded data removed]",
            "text/plain": [
              "<Figure size 432x288 with 2 Axes>"
            ]
          },
          "metadata": {
            "tags": [],
            "needs_background": "light"
          }
        }
      ]
    },
    {
      "cell_type": "code",
      "metadata": {
        "colab": {
          "base_uri": "https://localhost:8080/",
          "height": 264
        },
        "id": "N8nv75brNvP9",
        "outputId": "c27a4cd7-3e78-40f1-ac1c-56fed8735084"
      },
      "source": [
        "#plotando alguns gráficos\n",
        "df_ciencia['busca'].hist(bins=3);  #histograma"
      ],
      "execution_count": 177,
      "outputs": [
        {
          "output_type": "display_data",
          "data": {
            "image/png": "[encoded data removed]",
            "text/plain": [
              "<Figure size 432x288 with 1 Axes>"
            ]
          },
          "metadata": {
            "tags": [],
            "needs_background": "light"
          }
        }
      ]
    },
    {
      "cell_type": "code",
      "metadata": {
        "colab": {
          "base_uri": "https://localhost:8080/",
          "height": 264
        },
        "id": "EfI7x5N1GWYB",
        "outputId": "f4c7793c-dab6-42a6-c389-a96e80022120"
      },
      "source": [
        "#plotando alguns gráficos\n",
        "df_ciencia['areaInteresse'].hist(bins=3);  #histograma"
      ],
      "execution_count": 178,
      "outputs": [
        {
          "output_type": "display_data",
          "data": {
            "image/png": "[encoded data removed]",
            "text/plain": [
              "<Figure size 432x288 with 1 Axes>"
            ]
          },
          "metadata": {
            "tags": [],
            "needs_background": "light"
          }
        }
      ]
    },
    {
      "cell_type": "code",
      "metadata": {
        "colab": {
          "base_uri": "https://localhost:8080/",
          "height": 267
        },
        "id": "ZK3ldJ5fG2Fw",
        "outputId": "f11a54d7-c776-4d21-925c-9497af7aa063"
      },
      "source": [
        "#plotando alguns gráficos\n",
        "df_ciencia['topaCanal'].hist(bins=3);  #histograma"
      ],
      "execution_count": 179,
      "outputs": [
        {
          "output_type": "display_data",
          "data": {
            "image/png": "[encoded data removed]",
            "text/plain": [
              "<Figure size 432x288 with 1 Axes>"
            ]
          },
          "metadata": {
            "tags": [],
            "needs_background": "light"
          }
        }
      ]
    },
    {
      "cell_type": "code",
      "metadata": {
        "id": "_6Kk9qPOtkyq"
      },
      "source": [
        "import matplotlib.colors as mcolors\n"
      ],
      "execution_count": 180,
      "outputs": []
    },
    {
      "cell_type": "markdown",
      "metadata": {
        "id": "M1L7gd7gw_0B"
      },
      "source": [
        "**Identificando possíveis outliers**"
      ]
    },
    {
      "cell_type": "code",
      "metadata": {
        "colab": {
          "base_uri": "https://localhost:8080/",
          "height": 282
        },
        "id": "dXCSIVA2w9id",
        "outputId": "12f983fc-cadc-4943-84c1-2af80a38b1f2"
      },
      "source": [
        "#realizando o plot do boxplot\n",
        "df_ciencia[['busca', 'compartilha', 'recebenot']].boxplot()"
      ],
      "execution_count": 181,
      "outputs": [
        {
          "output_type": "execute_result",
          "data": {
            "text/plain": [
              "<matplotlib.axes._subplots.AxesSubplot at 0x7fa4d0cc1250>"
            ]
          },
          "metadata": {
            "tags": []
          },
          "execution_count": 181
        },
        {
          "output_type": "display_data",
          "data": {
            "image/png": "[encoded data removed]",
            "text/plain": [
              "<Figure size 432x288 with 1 Axes>"
            ]
          },
          "metadata": {
            "tags": [],
            "needs_background": "light"
          }
        }
      ]
    },
    {
      "cell_type": "markdown",
      "metadata": {
        "id": "uOxuzqHbQaBO"
      },
      "source": [
        "**Inicalizando o PCA**"
      ]
    },
    {
      "cell_type": "code",
      "metadata": {
        "id": "b0qOUvHkQNVU"
      },
      "source": [
        "#Normalização com média 0 e desvio 1\n",
        "normaliza = StandardScaler() #objeto para a normalização\n",
        "X_std=normaliza.fit_transform(df_ciencia) #aplica a normalização"
      ],
      "execution_count": 182,
      "outputs": []
    },
    {
      "cell_type": "code",
      "metadata": {
        "colab": {
          "base_uri": "https://localhost:8080/"
        },
        "id": "B0lFAmDMmsj4",
        "outputId": "d0b16c7d-1836-4ae7-d318-05da91b9c5b3"
      },
      "source": [
        "X_std"
      ],
      "execution_count": 183,
      "outputs": [
        {
          "output_type": "execute_result",
          "data": {
            "text/plain": [
              "array([[ 0.70849158, -0.38810003, -0.4811547 ,  0.91651514, -0.6193823 ,\n",
              "        -0.78548028,  0.52223297, -0.92000581],\n",
              "       [ 0.70849158, -0.828646  , -0.4811547 ,  2.74954542, -0.6193823 ,\n",
              "        -0.78548028,  0.52223297, -0.92000581],\n",
              "       [ 0.70849158, -0.828646  ,  1.27610595, -0.91651514,  2.11893944,\n",
              "        -0.78548028,  0.52223297,  0.07076968],\n",
              "       [ 0.25069702,  0.9335379 ,  1.27610595,  0.91651514, -0.6193823 ,\n",
              "        -0.78548028,  0.52223297,  0.07076968],\n",
              "       [ 0.25069702, -0.828646  ,  2.15473627, -0.91651514, -0.6193823 ,\n",
              "         1.85373346,  0.52223297,  0.07076968],\n",
              "       [ 0.70849158, -0.38810003, -0.4811547 ,  0.91651514,  2.11893944,\n",
              "        -0.78548028,  0.52223297, -0.92000581],\n",
              "       [ 0.70849158,  1.37408388, -0.4811547 ,  0.91651514,  2.11893944,\n",
              "         1.85373346, -1.30558242,  0.07076968],\n",
              "       [-0.6648921 ,  0.9335379 , -0.4811547 ,  0.91651514, -0.6193823 ,\n",
              "        -0.78548028,  0.52223297,  0.07076968],\n",
              "       [ 0.25069702,  1.81462985,  1.27610595,  0.91651514,  0.74977857,\n",
              "        -0.78548028,  0.52223297,  2.05232065],\n",
              "       [ 0.25069702,  1.81462985,  1.27610595,  0.91651514,  0.74977857,\n",
              "        -0.78548028,  0.52223297,  2.05232065],\n",
              "       [ 0.70849158,  0.49299193, -0.4811547 ,  0.91651514, -0.6193823 ,\n",
              "         1.85373346,  0.52223297, -0.92000581],\n",
              "       [ 0.70849158, -0.38810003, -0.4811547 ,  0.91651514, -0.6193823 ,\n",
              "        -0.78548028,  0.52223297, -0.92000581],\n",
              "       [ 1.16628614,  1.37408388,  1.27610595,  0.91651514, -0.6193823 ,\n",
              "        -0.78548028,  0.52223297,  0.07076968],\n",
              "       [-0.6648921 , -0.38810003, -1.35978503, -0.91651514,  0.74977857,\n",
              "         1.85373346, -1.30558242,  0.07076968],\n",
              "       [-1.12268666,  1.81462985,  1.27610595, -0.91651514, -0.6193823 ,\n",
              "        -0.78548028,  0.52223297,  0.07076968],\n",
              "       [ 0.25069702, -0.38810003, -0.4811547 ,  0.91651514, -0.6193823 ,\n",
              "        -0.78548028,  0.52223297,  1.06154516],\n",
              "       [-2.03827578, -0.38810003,  1.27610595, -0.91651514, -0.6193823 ,\n",
              "        -0.78548028, -1.30558242, -0.92000581],\n",
              "       [-2.03827578, -0.828646  , -1.35978503, -0.91651514, -0.6193823 ,\n",
              "        -0.78548028,  0.52223297, -0.92000581],\n",
              "       [-2.03827578, -0.828646  ,  0.39747562, -0.91651514, -0.6193823 ,\n",
              "        -0.78548028,  0.52223297,  0.07076968],\n",
              "       [-1.12268666, -0.828646  ,  1.27610595, -0.91651514, -0.6193823 ,\n",
              "        -0.78548028,  0.52223297, -0.92000581],\n",
              "       [-1.12268666,  0.9335379 ,  1.27610595, -0.91651514, -0.6193823 ,\n",
              "         1.85373346,  0.52223297, -0.92000581],\n",
              "       [-1.58048122, -0.828646  , -1.35978503,  0.91651514, -0.6193823 ,\n",
              "         0.53412659,  0.52223297, -0.92000581],\n",
              "       [ 0.25069702, -0.828646  , -1.35978503, -0.91651514, -0.6193823 ,\n",
              "         0.53412659, -1.30558242, -0.92000581],\n",
              "       [-0.20709754, -0.38810003,  1.27610595, -0.91651514, -0.6193823 ,\n",
              "         0.53412659,  0.52223297, -0.92000581],\n",
              "       [ 0.70849158, -0.828646  , -1.35978503, -0.91651514, -0.6193823 ,\n",
              "        -0.78548028, -1.30558242, -0.92000581],\n",
              "       [ 0.70849158,  1.81462985, -0.4811547 , -0.91651514, -0.6193823 ,\n",
              "         0.53412659,  0.52223297,  2.05232065],\n",
              "       [ 1.16628614, -0.828646  ,  1.27610595,  0.91651514, -0.6193823 ,\n",
              "        -0.78548028,  0.52223297,  0.07076968],\n",
              "       [ 0.70849158, -0.828646  ,  1.27610595, -0.91651514,  2.11893944,\n",
              "        -0.78548028,  0.52223297,  0.07076968],\n",
              "       [ 0.70849158, -0.38810003, -0.4811547 ,  0.91651514, -0.6193823 ,\n",
              "        -0.78548028,  0.52223297, -0.92000581],\n",
              "       [ 0.25069702, -0.828646  , -0.4811547 , -0.91651514,  0.74977857,\n",
              "         0.53412659,  0.52223297,  2.05232065],\n",
              "       [ 0.70849158,  1.81462985, -0.4811547 , -0.91651514, -0.6193823 ,\n",
              "         0.53412659,  0.52223297,  2.05232065],\n",
              "       [ 0.70849158, -0.828646  , -0.4811547 ,  0.91651514,  2.11893944,\n",
              "         1.85373346,  0.52223297,  0.07076968],\n",
              "       [ 1.16628614, -0.828646  , -0.4811547 , -0.91651514,  2.11893944,\n",
              "        -0.78548028,  0.52223297,  0.07076968],\n",
              "       [-1.12268666, -0.828646  , -0.4811547 , -0.91651514, -0.6193823 ,\n",
              "         0.53412659, -1.30558242, -0.92000581],\n",
              "       [-1.12268666, -0.828646  , -0.4811547 ,  0.91651514,  0.74977857,\n",
              "         0.53412659,  0.52223297,  1.06154516],\n",
              "       [-1.58048122,  0.49299193, -0.4811547 , -0.91651514, -0.6193823 ,\n",
              "        -0.78548028,  0.52223297, -0.92000581],\n",
              "       [ 0.70849158, -0.828646  , -1.35978503, -0.91651514, -0.6193823 ,\n",
              "        -0.78548028,  0.52223297,  0.07076968],\n",
              "       [-1.58048122,  0.49299193, -1.35978503, -0.91651514, -0.6193823 ,\n",
              "         0.53412659, -1.30558242,  0.07076968],\n",
              "       [ 0.70849158, -0.828646  ,  0.39747562, -0.91651514,  0.74977857,\n",
              "         0.53412659, -3.13339781,  2.05232065],\n",
              "       [ 1.16628614, -0.828646  ,  0.39747562,  0.91651514, -0.6193823 ,\n",
              "        -0.78548028,  0.52223297,  0.07076968],\n",
              "       [-0.20709754,  0.9335379 , -0.4811547 ,  0.91651514,  0.74977857,\n",
              "         1.85373346, -1.30558242,  0.07076968],\n",
              "       [ 1.16628614,  1.81462985, -0.4811547 ,  0.91651514, -0.6193823 ,\n",
              "         0.53412659, -3.13339781, -0.92000581]])"
            ]
          },
          "metadata": {
            "tags": []
          },
          "execution_count": 183
        }
      ]
    },
    {
      "cell_type": "markdown",
      "metadata": {
        "id": "WgMBRamsd8uX"
      },
      "source": [
        "**Árvore de Decisão**"
      ]
    },
    {
      "cell_type": "code",
      "metadata": {
        "id": "G1ggKy6OeAwZ"
      },
      "source": [
        "#importando as bibliotecas\n",
        "from sklearn.tree import DecisionTreeClassifier # importa o classificador árvore de decisão\n",
        "from sklearn import metrics #importa as métricas para avaliação"
      ],
      "execution_count": 184,
      "outputs": []
    },
    {
      "cell_type": "code",
      "metadata": {
        "id": "OSv93oDsfVp7"
      },
      "source": [
        "#preparando o dataset\n",
        "df_ciencia_arvore=pd.read_csv('coleta.csv')"
      ],
      "execution_count": 185,
      "outputs": []
    },
    {
      "cell_type": "code",
      "metadata": {
        "id": "UVzT_XYTQXiP"
      },
      "source": [
        "#transformando os dados para numéricos\n",
        "df_ciencia_arvore['topaCanal']=pd.to_numeric(df_ciencia_arvore['topaCanal'], errors='coerce')\n",
        "df_ciencia_arvore['areaInteresse']=pd.to_numeric(df_ciencia_arvore['areaInteresse'], errors='coerce')"
      ],
      "execution_count": 186,
      "outputs": []
    },
    {
      "cell_type": "code",
      "metadata": {
        "id": "X9gU0G0YFPP8"
      },
      "source": [
        ""
      ],
      "execution_count": null,
      "outputs": []
    },
    {
      "cell_type": "code",
      "metadata": {
        "id": "liLKeRSwFR1N"
      },
      "source": [
        "#transformando os dados para numéricos\n",
        "df_ciencia_arvore['busca']=pd.to_numeric(df_ciencia_arvore['busca'], errors='coerce')\n",
        "df_ciencia_arvore['compartilha']=pd.to_numeric(df_ciencia_arvore['compartilha'], errors='coerce')"
      ],
      "execution_count": 187,
      "outputs": []
    },
    {
      "cell_type": "code",
      "metadata": {
        "id": "IPa85AfBFKWL"
      },
      "source": [
        ""
      ],
      "execution_count": null,
      "outputs": []
    },
    {
      "cell_type": "code",
      "metadata": {
        "id": "e8oghW5xlaEJ"
      },
      "source": [
        "#retirando os valores nulos\n",
        "df_ciencia_arvore.dropna(inplace=True)"
      ],
      "execution_count": 188,
      "outputs": []
    },
    {
      "cell_type": "code",
      "metadata": {
        "colab": {
          "base_uri": "https://localhost:8080/",
          "height": 197
        },
        "id": "vu0L_Y0Jff1w",
        "outputId": "60c9d0d0-5c96-4316-8790-24036ebaf113"
      },
      "source": [
        "#mostrando o dataset\n",
        "df_ciencia_arvore.head()"
      ],
      "execution_count": 189,
      "outputs": [
        {
          "output_type": "execute_result",
          "data": {
            "text/html": [
              "<div>\n",
              "<style scoped>\n",
              "    .dataframe tbody tr th:only-of-type {\n",
              "        vertical-align: middle;\n",
              "    }\n",
              "\n",
              "    .dataframe tbody tr th {\n",
              "        vertical-align: top;\n",
              "    }\n",
              "\n",
              "    .dataframe thead th {\n",
              "        text-align: right;\n",
              "    }\n",
              "</style>\n",
              "<table border=\"1\" class=\"dataframe\">\n",
              "  <thead>\n",
              "    <tr style=\"text-align: right;\">\n",
              "      <th></th>\n",
              "      <th>Carimbo de data/hora</th>\n",
              "      <th>idade</th>\n",
              "      <th>areaInteresse</th>\n",
              "      <th>busca</th>\n",
              "      <th>compartilha</th>\n",
              "      <th>frequencia</th>\n",
              "      <th>recebenot</th>\n",
              "      <th>topaCanal</th>\n",
              "      <th>estudo</th>\n",
              "      <th>frequenciaAnun</th>\n",
              "    </tr>\n",
              "  </thead>\n",
              "  <tbody>\n",
              "    <tr>\n",
              "      <th>0</th>\n",
              "      <td>19/03/2021 13:47:57</td>\n",
              "      <td>35,45</td>\n",
              "      <td>7</td>\n",
              "      <td>2</td>\n",
              "      <td>2</td>\n",
              "      <td>2</td>\n",
              "      <td>1</td>\n",
              "      <td>1</td>\n",
              "      <td>3</td>\n",
              "      <td>1</td>\n",
              "    </tr>\n",
              "    <tr>\n",
              "      <th>1</th>\n",
              "      <td>19/03/2021 13:48:23</td>\n",
              "      <td>25,35</td>\n",
              "      <td>7</td>\n",
              "      <td>1</td>\n",
              "      <td>2</td>\n",
              "      <td>3</td>\n",
              "      <td>1</td>\n",
              "      <td>1</td>\n",
              "      <td>3</td>\n",
              "      <td>1</td>\n",
              "    </tr>\n",
              "    <tr>\n",
              "      <th>2</th>\n",
              "      <td>19/03/2021 13:48:25</td>\n",
              "      <td>25,35</td>\n",
              "      <td>7</td>\n",
              "      <td>1</td>\n",
              "      <td>4</td>\n",
              "      <td>1</td>\n",
              "      <td>3</td>\n",
              "      <td>1</td>\n",
              "      <td>3</td>\n",
              "      <td>2</td>\n",
              "    </tr>\n",
              "    <tr>\n",
              "      <th>3</th>\n",
              "      <td>19/03/2021 13:49:19</td>\n",
              "      <td>25,35</td>\n",
              "      <td>6</td>\n",
              "      <td>5</td>\n",
              "      <td>4</td>\n",
              "      <td>2</td>\n",
              "      <td>1</td>\n",
              "      <td>1</td>\n",
              "      <td>3</td>\n",
              "      <td>2</td>\n",
              "    </tr>\n",
              "    <tr>\n",
              "      <th>4</th>\n",
              "      <td>19/03/2021 14:16:29</td>\n",
              "      <td>35,45</td>\n",
              "      <td>6</td>\n",
              "      <td>1</td>\n",
              "      <td>5</td>\n",
              "      <td>1</td>\n",
              "      <td>1</td>\n",
              "      <td>3</td>\n",
              "      <td>3</td>\n",
              "      <td>2</td>\n",
              "    </tr>\n",
              "  </tbody>\n",
              "</table>\n",
              "</div>"
            ],
            "text/plain": [
              "  Carimbo de data/hora  idade  areaInteresse  ...  topaCanal  estudo  frequenciaAnun\n",
              "0  19/03/2021 13:47:57  35,45              7  ...          1       3               1\n",
              "1  19/03/2021 13:48:23  25,35              7  ...          1       3               1\n",
              "2  19/03/2021 13:48:25  25,35              7  ...          1       3               2\n",
              "3  19/03/2021 13:49:19  25,35              6  ...          1       3               2\n",
              "4  19/03/2021 14:16:29  35,45              6  ...          3       3               2\n",
              "\n",
              "[5 rows x 10 columns]"
            ]
          },
          "metadata": {
            "tags": []
          },
          "execution_count": 189
        }
      ]
    },
    {
      "cell_type": "code",
      "metadata": {
        "colab": {
          "base_uri": "https://localhost:8080/"
        },
        "id": "t26-du50LrrB",
        "outputId": "af5f7473-def6-4e1d-c088-6697bfd3aa51"
      },
      "source": [
        "df_ciencia.apply(lambda x: sum(x.isnull()),axis=0)\n"
      ],
      "execution_count": 190,
      "outputs": [
        {
          "output_type": "execute_result",
          "data": {
            "text/plain": [
              "areaInteresse     0\n",
              "busca             0\n",
              "compartilha       0\n",
              "frequencia        0\n",
              "recebenot         0\n",
              "topaCanal         0\n",
              "estudo            0\n",
              "frequenciaAnun    0\n",
              "dtype: int64"
            ]
          },
          "metadata": {
            "tags": []
          },
          "execution_count": 190
        }
      ]
    },
    {
      "cell_type": "code",
      "metadata": {
        "id": "jtymqOqZR-e0"
      },
      "source": [
        "#adicionando a coluna de classificação\n",
        "df_ciencia_arvore['is_efficient']=df_ciencia_arvore['topaCanal'].map(lambda x: 1 if x>5 else 0)"
      ],
      "execution_count": 191,
      "outputs": []
    },
    {
      "cell_type": "code",
      "metadata": {
        "colab": {
          "base_uri": "https://localhost:8080/",
          "height": 197
        },
        "id": "6U80HgtSkhF4",
        "outputId": "d875cabb-dc3a-4b4a-f86d-c5963c3a0a27"
      },
      "source": [
        "df_ciencia_arvore.head()"
      ],
      "execution_count": 192,
      "outputs": [
        {
          "output_type": "execute_result",
          "data": {
            "text/html": [
              "<div>\n",
              "<style scoped>\n",
              "    .dataframe tbody tr th:only-of-type {\n",
              "        vertical-align: middle;\n",
              "    }\n",
              "\n",
              "    .dataframe tbody tr th {\n",
              "        vertical-align: top;\n",
              "    }\n",
              "\n",
              "    .dataframe thead th {\n",
              "        text-align: right;\n",
              "    }\n",
              "</style>\n",
              "<table border=\"1\" class=\"dataframe\">\n",
              "  <thead>\n",
              "    <tr style=\"text-align: right;\">\n",
              "      <th></th>\n",
              "      <th>Carimbo de data/hora</th>\n",
              "      <th>idade</th>\n",
              "      <th>areaInteresse</th>\n",
              "      <th>busca</th>\n",
              "      <th>compartilha</th>\n",
              "      <th>frequencia</th>\n",
              "      <th>recebenot</th>\n",
              "      <th>topaCanal</th>\n",
              "      <th>estudo</th>\n",
              "      <th>frequenciaAnun</th>\n",
              "      <th>is_efficient</th>\n",
              "    </tr>\n",
              "  </thead>\n",
              "  <tbody>\n",
              "    <tr>\n",
              "      <th>0</th>\n",
              "      <td>19/03/2021 13:47:57</td>\n",
              "      <td>35,45</td>\n",
              "      <td>7</td>\n",
              "      <td>2</td>\n",
              "      <td>2</td>\n",
              "      <td>2</td>\n",
              "      <td>1</td>\n",
              "      <td>1</td>\n",
              "      <td>3</td>\n",
              "      <td>1</td>\n",
              "      <td>0</td>\n",
              "    </tr>\n",
              "    <tr>\n",
              "      <th>1</th>\n",
              "      <td>19/03/2021 13:48:23</td>\n",
              "      <td>25,35</td>\n",
              "      <td>7</td>\n",
              "      <td>1</td>\n",
              "      <td>2</td>\n",
              "      <td>3</td>\n",
              "      <td>1</td>\n",
              "      <td>1</td>\n",
              "      <td>3</td>\n",
              "      <td>1</td>\n",
              "      <td>0</td>\n",
              "    </tr>\n",
              "    <tr>\n",
              "      <th>2</th>\n",
              "      <td>19/03/2021 13:48:25</td>\n",
              "      <td>25,35</td>\n",
              "      <td>7</td>\n",
              "      <td>1</td>\n",
              "      <td>4</td>\n",
              "      <td>1</td>\n",
              "      <td>3</td>\n",
              "      <td>1</td>\n",
              "      <td>3</td>\n",
              "      <td>2</td>\n",
              "      <td>0</td>\n",
              "    </tr>\n",
              "    <tr>\n",
              "      <th>3</th>\n",
              "      <td>19/03/2021 13:49:19</td>\n",
              "      <td>25,35</td>\n",
              "      <td>6</td>\n",
              "      <td>5</td>\n",
              "      <td>4</td>\n",
              "      <td>2</td>\n",
              "      <td>1</td>\n",
              "      <td>1</td>\n",
              "      <td>3</td>\n",
              "      <td>2</td>\n",
              "      <td>0</td>\n",
              "    </tr>\n",
              "    <tr>\n",
              "      <th>4</th>\n",
              "      <td>19/03/2021 14:16:29</td>\n",
              "      <td>35,45</td>\n",
              "      <td>6</td>\n",
              "      <td>1</td>\n",
              "      <td>5</td>\n",
              "      <td>1</td>\n",
              "      <td>1</td>\n",
              "      <td>3</td>\n",
              "      <td>3</td>\n",
              "      <td>2</td>\n",
              "      <td>0</td>\n",
              "    </tr>\n",
              "  </tbody>\n",
              "</table>\n",
              "</div>"
            ],
            "text/plain": [
              "  Carimbo de data/hora  idade  ...  frequenciaAnun  is_efficient\n",
              "0  19/03/2021 13:47:57  35,45  ...               1             0\n",
              "1  19/03/2021 13:48:23  25,35  ...               1             0\n",
              "2  19/03/2021 13:48:25  25,35  ...               2             0\n",
              "3  19/03/2021 13:49:19  25,35  ...               2             0\n",
              "4  19/03/2021 14:16:29  35,45  ...               2             0\n",
              "\n",
              "[5 rows x 11 columns]"
            ]
          },
          "metadata": {
            "tags": []
          },
          "execution_count": 192
        }
      ]
    },
    {
      "cell_type": "code",
      "metadata": {
        "colab": {
          "base_uri": "https://localhost:8080/"
        },
        "id": "OyPPyi2TlJj4",
        "outputId": "1a7ce988-566b-41fc-9e6a-9556a7a4fb81"
      },
      "source": [
        "df_ciencia_arvore.info()"
      ],
      "execution_count": 193,
      "outputs": [
        {
          "output_type": "stream",
          "text": [
            "<class 'pandas.core.frame.DataFrame'>\n",
            "Int64Index: 42 entries, 0 to 41\n",
            "Data columns (total 11 columns):\n",
            " #   Column                Non-Null Count  Dtype \n",
            "---  ------                --------------  ----- \n",
            " 0   Carimbo de data/hora  42 non-null     object\n",
            " 1   idade                 42 non-null     object\n",
            " 2   areaInteresse         42 non-null     int64 \n",
            " 3   busca                 42 non-null     int64 \n",
            " 4   compartilha           42 non-null     int64 \n",
            " 5   frequencia            42 non-null     int64 \n",
            " 6   recebenot             42 non-null     int64 \n",
            " 7   topaCanal             42 non-null     int64 \n",
            " 8   estudo                42 non-null     int64 \n",
            " 9   frequenciaAnun        42 non-null     int64 \n",
            " 10  is_efficient          42 non-null     int64 \n",
            "dtypes: int64(9), object(2)\n",
            "memory usage: 3.9+ KB\n"
          ],
          "name": "stdout"
        }
      ]
    },
    {
      "cell_type": "code",
      "metadata": {
        "id": "S66lhfFDf1rT"
      },
      "source": [
        "#definindo as entradas e as saídas\n",
        "entradas_arvore=df_ciencia_arvore[['areaInteresse', 'busca', 'compartilha','topaCanal']]\n",
        "saidas_arvore=df_ciencia_arvore['is_efficient']"
      ],
      "execution_count": 195,
      "outputs": []
    },
    {
      "cell_type": "code",
      "metadata": {
        "id": "Dr8hShneGML8"
      },
      "source": [
        ""
      ],
      "execution_count": null,
      "outputs": []
    },
    {
      "cell_type": "code",
      "metadata": {
        "id": "9JMHZfcNGMmN"
      },
      "source": [
        "#definindo as entradas e as saídas\n",
        "entradas_arvore=df_ciencia_arvore[['topaCanal','frequencia','recebenot','frequenciaAnun']]\n",
        "saidas_arvore=df_ciencia_arvore['is_efficient']"
      ],
      "execution_count": 221,
      "outputs": []
    },
    {
      "cell_type": "code",
      "metadata": {
        "id": "y3ru8hBlxz_J"
      },
      "source": [
        "from sklearn import tree\n",
        "from sklearn.tree import DecisionTreeClassifier"
      ],
      "execution_count": 222,
      "outputs": []
    },
    {
      "cell_type": "code",
      "metadata": {
        "id": "eec3k15akqKj"
      },
      "source": [
        "#realiza a divisão dos dados entre treinamento e teste\n",
        "from sklearn.model_selection import train_test_split   # função que realiza a divisão do dataset\n",
        "X_train, X_test, y_train, y_test = train_test_split(entradas_arvore, saidas_arvore, test_size=0.8)# divide 20% para teste"
      ],
      "execution_count": 223,
      "outputs": []
    },
    {
      "cell_type": "code",
      "metadata": {
        "id": "uX0d56TffLkZ"
      },
      "source": [
        "# Cria o objeto de classificação através do \n",
        "clf = DecisionTreeClassifier()\n",
        "\n",
        "# Realiza o treinamento do classificador\n",
        "clf = clf.fit(X_train,y_train)\n",
        "\n",
        "#Realiza a previsão de classificaçao \n",
        "y_pred = clf.predict(X_test)"
      ],
      "execution_count": 224,
      "outputs": []
    },
    {
      "cell_type": "code",
      "metadata": {
        "colab": {
          "base_uri": "https://localhost:8080/"
        },
        "id": "fmoNDbsVlwi0",
        "outputId": "f309cf0b-689c-4e16-e2cf-a68fac80a21a"
      },
      "source": [
        "#constroi a matriz de confusão para comparar o modelo criado\n",
        "from sklearn.metrics import classification_report, confusion_matrix\n",
        "print(confusion_matrix(y_test, y_pred))\n",
        "print(classification_report(y_test, y_pred))"
      ],
      "execution_count": 225,
      "outputs": [
        {
          "output_type": "stream",
          "text": [
            "[[34]]\n",
            "              precision    recall  f1-score   support\n",
            "\n",
            "           0       1.00      1.00      1.00        34\n",
            "\n",
            "    accuracy                           1.00        34\n",
            "   macro avg       1.00      1.00      1.00        34\n",
            "weighted avg       1.00      1.00      1.00        34\n",
            "\n"
          ],
          "name": "stdout"
        }
      ]
    }
  ]
}
